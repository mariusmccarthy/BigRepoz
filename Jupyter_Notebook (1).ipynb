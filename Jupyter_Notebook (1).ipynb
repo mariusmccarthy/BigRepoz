{
 "cells": [
  {
   "cell_type": "markdown",
   "id": "dee69b7d-bd87-4347-80da-52de6410d56b",
   "metadata": {},
   "source": [
    "# My Juypter Notebook not on IBM Watson Studio because my login didn't work"
   ]
  },
  {
   "cell_type": "markdown",
   "id": "37f517a1-af84-4c36-ab91-16922cb3d3ad",
   "metadata": {},
   "source": [
    "**Marius McCarthy** - Tender Analyst"
   ]
  },
  {
   "cell_type": "markdown",
   "id": "84e9bd5d-bf67-4a0f-8cba-08d9b7e159b7",
   "metadata": {},
   "source": [
    "*Data science interests me as it will enrich my current role, allowing me to be more efficient with my time whilst also gaining valuable insight into our strategy and show us pathways to improve*"
   ]
  },
  {
   "cell_type": "markdown",
   "id": "2d39f0bb-5e85-44c9-bd06-9dd9b50c00dc",
   "metadata": {},
   "source": [
    "### this code will perform a simple addition of 4 + 4"
   ]
  },
  {
   "cell_type": "code",
   "execution_count": 6,
   "id": "0e14f70e-0cf2-46e8-99a9-2b7bf2fb1ad8",
   "metadata": {},
   "outputs": [
    {
     "name": "stdout",
     "output_type": "stream",
     "text": [
      "8\n"
     ]
    }
   ],
   "source": [
    "print(4+4)\n",
    "\n"
   ]
  },
  {
   "cell_type": "markdown",
   "id": "1c3c1553-3b3c-41bb-8639-54d5b6bb8d48",
   "metadata": {},
   "source": [
    "1. Try to learn data science\n",
    "2. struggle to use python and jupyter notebooks\n",
    "3. **???**\n",
    "4. profit"
   ]
  },
  {
   "cell_type": "markdown",
   "id": "a959ba97-fb1a-4e9e-8265-835020de435a",
   "metadata": {},
   "source": [
    "<a href=\"https://www.gamahealthcare.com/\" > website of my company </a>"
   ]
  },
  {
   "cell_type": "markdown",
   "id": "fbc6c2ce-b4c9-44be-a163-ce0e5221e4b5",
   "metadata": {},
   "source": [
    "I definitely ~did~ didn't make this website myself"
   ]
  },
  {
   "cell_type": "code",
   "execution_count": null,
   "id": "e96a494a-0f88-4c42-b914-fdbd27c7a952",
   "metadata": {},
   "outputs": [],
   "source": []
  }
 ],
 "metadata": {
  "kernelspec": {
   "display_name": "Python 3 (ipykernel)",
   "language": "python",
   "name": "python3"
  },
  "language_info": {
   "codemirror_mode": {
    "name": "ipython",
    "version": 3
   },
   "file_extension": ".py",
   "mimetype": "text/x-python",
   "name": "python",
   "nbconvert_exporter": "python",
   "pygments_lexer": "ipython3",
   "version": "3.9.13"
  }
 },
 "nbformat": 4,
 "nbformat_minor": 5
}
